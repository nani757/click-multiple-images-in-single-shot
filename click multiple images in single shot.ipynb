{
 "cells": [
  {
   "cell_type": "code",
   "execution_count": null,
   "id": "343edcf4-cd55-4d21-8bc5-4bccb2ec1367",
   "metadata": {},
   "outputs": [],
   "source": [
    "# pip install labelme # label me is the tool for labeling the image file mages \n",
    "# pip install opencv-python #for camera \n",
    "# pip install albumentations \n",
    "\"\"\"Albumentations is a Python library for image augmentation. \n",
    "Image augmentation is used in deep learning and computer vision tasks to increase the quality of trained models. \n",
    "The purpose of image augmentation is to create new training samples from the existing data.\"\"\""
   ]
  },
  {
   "cell_type": "code",
   "execution_count": 9,
   "id": "02007b2d-90fe-442e-b831-687403615256",
   "metadata": {},
   "outputs": [],
   "source": [
    "import os \n",
    "import time #for time limit \n",
    "import uuid # Universal Unique Identifier for labeling unique name \n",
    "import cv2 # for opening camera"
   ]
  },
  {
   "cell_type": "code",
   "execution_count": 7,
   "id": "7e620ddd-2cad-42b5-9bd1-7250d81de8e2",
   "metadata": {},
   "outputs": [],
   "source": [
    "images_path = os.path.join('data','images')\n",
    "number_images = 30"
   ]
  },
  {
   "cell_type": "code",
   "execution_count": null,
   "id": "17fffde6-8634-4882-9f6f-c76b69c4b9bd",
   "metadata": {},
   "outputs": [],
   "source": [
    "cap = cv2.VideoCapture(0)\n",
    "for imgnum in range(number_images):\n",
    "    print('Collecting image {}'.format(imgnum))\n",
    "    ret, frame = cap.read()\n",
    "    imgname = os.path.join(IMAGES_PATH,f'{str(uuid.uuid1())}.jpg')\n",
    "    cv2.imwrite(imgname,frame)\n",
    "    cv2.imshow('frame',frame)\n",
    "    time.sleep(0.5)\n",
    "    \n",
    "    if cv2.waitKey(1) & 0xFF ==ord('q'):\n",
    "        break\n",
    "        \n",
    "cap.release()\n",
    "cv2.destroyAllWindows()"
   ]
  }
 ],
 "metadata": {
  "kernelspec": {
   "display_name": "data_collection",
   "language": "python",
   "name": "data_collection"
  },
  "language_info": {
   "codemirror_mode": {
    "name": "ipython",
    "version": 3
   },
   "file_extension": ".py",
   "mimetype": "text/x-python",
   "name": "python",
   "nbconvert_exporter": "python",
   "pygments_lexer": "ipython3",
   "version": "3.6.13"
  }
 },
 "nbformat": 4,
 "nbformat_minor": 5
}
